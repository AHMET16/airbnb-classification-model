{
 "cells": [
  {
   "cell_type": "code",
   "execution_count": null,
   "metadata": {},
   "outputs": [],
   "source": []
  },
  {
   "cell_type": "code",
   "execution_count": null,
   "metadata": {},
   "outputs": [],
   "source": []
  },
  {
   "cell_type": "markdown",
   "metadata": {},
   "source": [
    "## Preprocessing"
   ]
  },
  {
   "cell_type": "markdown",
   "metadata": {},
   "source": [
    "### Loading Data"
   ]
  },
  {
   "cell_type": "code",
   "execution_count": 1,
   "metadata": {},
   "outputs": [],
   "source": [
    "import warnings\n",
    "warnings.filterwarnings('ignore')\n",
    "import pandas as pd\n",
    "import seaborn as sns\n",
    "import matplotlib.pyplot as plt\n",
    "%matplotlib inline\n",
    "import matplotlib.ticker as mtick\n",
    "from matplotlib.pylab import rcParams\n",
    "import matplotlib.ticker as mtick\n",
    "from sklearn.model_selection import train_test_split, cross_val_score, GridSearchCV\n",
    "from sklearn.tree import DecisionTreeClassifier\n",
    "from sklearn.metrics import accuracy_score, mean_squared_error, mean_squared_log_error, roc_curve, auc\n",
    "from sklearn.metrics import precision_score, recall_score, accuracy_score, f1_score, classification_report\n",
    "from sklearn.metrics import confusion_matrix\n",
    "from sklearn.preprocessing import OneHotEncoder, StandardScaler\n",
    "from sklearn.linear_model import LinearRegression\n",
    "from sklearn.impute import SimpleImputer\n",
    "from sklearn import tree\n",
    "from sklearn.ensemble import RandomForestClassifier\n",
    "from imblearn.over_sampling import SMOTE\n",
    "from sklearn.metrics import plot_confusion_matrix\n",
    "from xgboost import XGBClassifier\n",
    "import numpy as np\n",
    "\n",
    "pd.set_option('display.max_rows', 1000)\n",
    "plt.style.use('fivethirtyeight')"
   ]
  },
  {
   "cell_type": "markdown",
   "metadata": {},
   "source": [
    "### Full_df: Dataframe Containing All Available Columns\n"
   ]
  },
  {
   "cell_type": "code",
   "execution_count": 2,
   "metadata": {},
   "outputs": [],
   "source": [
    "#Data obtained from http://insideairbnb.com/san-diego\n",
    "full_df = pd.read_csv('listings.csv')"
   ]
  },
  {
   "cell_type": "code",
   "execution_count": 3,
   "metadata": {},
   "outputs": [
    {
     "name": "stdout",
     "output_type": "stream",
     "text": [
      "<class 'pandas.core.frame.DataFrame'>\n",
      "RangeIndex: 14188 entries, 0 to 14187\n",
      "Data columns (total 75 columns):\n",
      " #   Column                                        Non-Null Count  Dtype  \n",
      "---  ------                                        --------------  -----  \n",
      " 0   id                                            14188 non-null  int64  \n",
      " 1   listing_url                                   14188 non-null  object \n",
      " 2   scrape_id                                     14188 non-null  int64  \n",
      " 3   last_scraped                                  14188 non-null  object \n",
      " 4   source                                        14188 non-null  object \n",
      " 5   name                                          14188 non-null  object \n",
      " 6   description                                   14060 non-null  object \n",
      " 7   neighborhood_overview                         9306 non-null   object \n",
      " 8   picture_url                                   14188 non-null  object \n",
      " 9   host_id                                       14188 non-null  int64  \n",
      " 10  host_url                                      14188 non-null  object \n",
      " 11  host_name                                     14174 non-null  object \n",
      " 12  host_since                                    14174 non-null  object \n",
      " 13  host_location                                 11669 non-null  object \n",
      " 14  host_about                                    9132 non-null   object \n",
      " 15  host_response_time                            13042 non-null  object \n",
      " 16  host_response_rate                            13042 non-null  object \n",
      " 17  host_acceptance_rate                          13465 non-null  object \n",
      " 18  host_is_superhost                             14175 non-null  object \n",
      " 19  host_thumbnail_url                            14174 non-null  object \n",
      " 20  host_picture_url                              14174 non-null  object \n",
      " 21  host_neighbourhood                            12131 non-null  object \n",
      " 22  host_listings_count                           14174 non-null  float64\n",
      " 23  host_total_listings_count                     14174 non-null  float64\n",
      " 24  host_verifications                            14188 non-null  object \n",
      " 25  host_has_profile_pic                          14174 non-null  object \n",
      " 26  host_identity_verified                        14174 non-null  object \n",
      " 27  neighbourhood                                 9306 non-null   object \n",
      " 28  neighbourhood_cleansed                        14188 non-null  object \n",
      " 29  neighbourhood_group_cleansed                  0 non-null      float64\n",
      " 30  latitude                                      14188 non-null  float64\n",
      " 31  longitude                                     14188 non-null  float64\n",
      " 32  property_type                                 14188 non-null  object \n",
      " 33  room_type                                     14188 non-null  object \n",
      " 34  accommodates                                  14188 non-null  int64  \n",
      " 35  bathrooms                                     0 non-null      float64\n",
      " 36  bathrooms_text                                14184 non-null  object \n",
      " 37  bedrooms                                      12915 non-null  float64\n",
      " 38  beds                                          14027 non-null  float64\n",
      " 39  amenities                                     14188 non-null  object \n",
      " 40  price                                         14188 non-null  object \n",
      " 41  minimum_nights                                14188 non-null  int64  \n",
      " 42  maximum_nights                                14188 non-null  int64  \n",
      " 43  minimum_minimum_nights                        14186 non-null  float64\n",
      " 44  maximum_minimum_nights                        14186 non-null  float64\n",
      " 45  minimum_maximum_nights                        14186 non-null  float64\n",
      " 46  maximum_maximum_nights                        14186 non-null  float64\n",
      " 47  minimum_nights_avg_ntm                        14186 non-null  float64\n",
      " 48  maximum_nights_avg_ntm                        14186 non-null  float64\n",
      " 49  calendar_updated                              0 non-null      float64\n",
      " 50  has_availability                              14188 non-null  object \n",
      " 51  availability_30                               14188 non-null  int64  \n",
      " 52  availability_60                               14188 non-null  int64  \n",
      " 53  availability_90                               14188 non-null  int64  \n",
      " 54  availability_365                              14188 non-null  int64  \n",
      " 55  calendar_last_scraped                         14188 non-null  object \n",
      " 56  number_of_reviews                             14188 non-null  int64  \n",
      " 57  number_of_reviews_ltm                         14188 non-null  int64  \n",
      " 58  number_of_reviews_l30d                        14188 non-null  int64  \n",
      " 59  first_review                                  12523 non-null  object \n",
      " 60  last_review                                   12523 non-null  object \n",
      " 61  review_scores_rating                          12523 non-null  float64\n",
      " 62  review_scores_accuracy                        12502 non-null  float64\n",
      " 63  review_scores_cleanliness                     12502 non-null  float64\n",
      " 64  review_scores_checkin                         12500 non-null  float64\n",
      " 65  review_scores_communication                   12502 non-null  float64\n",
      " 66  review_scores_location                        12500 non-null  float64\n",
      " 67  review_scores_value                           12500 non-null  float64\n",
      " 68  license                                       152 non-null    object \n",
      " 69  instant_bookable                              14188 non-null  object \n",
      " 70  calculated_host_listings_count                14188 non-null  int64  \n",
      " 71  calculated_host_listings_count_entire_homes   14188 non-null  int64  \n",
      " 72  calculated_host_listings_count_private_rooms  14188 non-null  int64  \n",
      " 73  calculated_host_listings_count_shared_rooms   14188 non-null  int64  \n",
      " 74  reviews_per_month                             12523 non-null  float64\n",
      "dtypes: float64(23), int64(17), object(35)\n",
      "memory usage: 8.1+ MB\n"
     ]
    }
   ],
   "source": [
    "full_df.info()"
   ]
  },
  {
   "cell_type": "code",
   "execution_count": 4,
   "metadata": {},
   "outputs": [],
   "source": [
    "base_df = full_df[['price', 'review_scores_rating', 'review_scores_accuracy',\n",
    "                      'review_scores_cleanliness', 'review_scores_checkin', 'review_scores_communication',\n",
    "                      'review_scores_location', 'review_scores_value','accommodates', 'bedrooms', 'beds',\n",
    "                      'instant_bookable', 'property_type', 'room_type', 'amenities', 'availability_365', \n",
    "                      'availability_30','availability_90','host_id', 'calculated_host_listings_count', \n",
    "                      'host_response_time', 'host_response_rate','host_is_superhost']]\n"
   ]
  },
  {
   "cell_type": "code",
   "execution_count": 5,
   "metadata": {},
   "outputs": [],
   "source": [
    "df = base_df"
   ]
  },
  {
   "cell_type": "markdown",
   "metadata": {},
   "source": [
    "### Exploratory Data Analysis\n",
    "- Investingating the various features of my dataset to determine which features to use in my model and anaylsis, and to what extent.\n",
    "#### Fixing Price\n",
    "- Price is currently a string. I need to strip out the extra characters and convert the datatype to Float so that I can better utilize the data\n",
    "\n"
   ]
  },
  {
   "cell_type": "code",
   "execution_count": 6,
   "metadata": {},
   "outputs": [
    {
     "data": {
      "text/plain": [
       "0    $225.00\n",
       "1    $113.00\n",
       "2    $258.00\n",
       "3    $336.00\n",
       "4    $333.00\n",
       "Name: price, dtype: object"
      ]
     },
     "execution_count": 6,
     "metadata": {},
     "output_type": "execute_result"
    }
   ],
   "source": [
    "df['price'].head(5)\n"
   ]
  },
  {
   "cell_type": "code",
   "execution_count": 7,
   "metadata": {},
   "outputs": [
    {
     "data": {
      "text/plain": [
       "0    225.0\n",
       "1    113.0\n",
       "Name: price, dtype: float64"
      ]
     },
     "execution_count": 7,
     "metadata": {},
     "output_type": "execute_result"
    }
   ],
   "source": [
    "#using lambda function to strip $ and , out of each price record. replacing with blank space.\n",
    "df['price'] = df['price'].map(lambda x: x.replace('$',''))\n",
    "df['price'] = df['price'].map(lambda x: x.replace(',',''))\n",
    "df['price'] = df['price'].astype(float) #changing cleaned column to float\n",
    "df['price'].head(2)"
   ]
  },
  {
   "cell_type": "markdown",
   "metadata": {},
   "source": [
    "### New Feature: Host Listings_5-\n",
    "- Creating a new feature that classifies whether a \"many\" listings or not"
   ]
  },
  {
   "cell_type": "code",
   "execution_count": 8,
   "metadata": {},
   "outputs": [
    {
     "data": {
      "text/plain": [
       "count    14188.000000\n",
       "mean        17.266422\n",
       "std         35.920780\n",
       "min          1.000000\n",
       "25%          1.000000\n",
       "50%          3.000000\n",
       "75%         13.000000\n",
       "max        213.000000\n",
       "Name: calculated_host_listings_count, dtype: float64"
      ]
     },
     "execution_count": 8,
     "metadata": {},
     "output_type": "execute_result"
    }
   ],
   "source": [
    "#getting key metrics for this feature.\n",
    "df['calculated_host_listings_count'].describe()"
   ]
  },
  {
   "cell_type": "markdown",
   "metadata": {},
   "source": [
    "Analysis:\n",
    "- The majority of hosts in this dataset have between 1-14 listings. (25%-75%).\n",
    "- The median is 3.\n",
    "- One has 213 listings"
   ]
  },
  {
   "cell_type": "code",
   "execution_count": 9,
   "metadata": {},
   "outputs": [
    {
     "data": {
      "text/plain": [
       "False    7608\n",
       "True     6580\n",
       "Name: calculated_host_listings_count, dtype: int64"
      ]
     },
     "execution_count": 9,
     "metadata": {},
     "output_type": "execute_result"
    }
   ],
   "source": [
    "#checking to see how many records have omly 1 or 2 listings vs the rest of the. records.\n",
    "low_listings = df['calculated_host_listings_count'] <=2\n",
    "\n",
    "low_listings.value_counts()"
   ]
  },
  {
   "cell_type": "markdown",
   "metadata": {},
   "source": [
    "Since so many hosts have just 1 or 2 rental units, everythink is skewed toward the lower end. However, I am setting  this classifier at 5 and under as people with multiple listings will be more likely to use OPC's service.\n"
   ]
  },
  {
   "cell_type": "code",
   "execution_count": 10,
   "metadata": {},
   "outputs": [
    {
     "data": {
      "text/plain": [
       "False    8221\n",
       "True     5967\n",
       "Name: capacity_5+, dtype: int64"
      ]
     },
     "execution_count": 10,
     "metadata": {},
     "output_type": "execute_result"
    }
   ],
   "source": [
    "#creating classifier and checking to see how the data is split.\n",
    "df['capacity_5+'] = df['accommodates'] >=5\n",
    "df['capacity_5+'].value_counts()"
   ]
  },
  {
   "cell_type": "markdown",
   "metadata": {},
   "source": [
    " This seems to be a good classifier as the split ends up being close to 50%.\n",
    "### New Feature Bedrooms_2+"
   ]
  },
  {
   "cell_type": "code",
   "execution_count": 11,
   "metadata": {},
   "outputs": [
    {
     "data": {
      "text/plain": [
       "count    12915.000000\n",
       "mean         1.994580\n",
       "std          1.235842\n",
       "min          1.000000\n",
       "25%          1.000000\n",
       "50%          2.000000\n",
       "75%          3.000000\n",
       "max         23.000000\n",
       "Name: bedrooms, dtype: float64"
      ]
     },
     "execution_count": 11,
     "metadata": {},
     "output_type": "execute_result"
    }
   ],
   "source": [
    "df['bedrooms'].describe()"
   ]
  },
  {
   "cell_type": "markdown",
   "metadata": {},
   "source": [
    "#### Analysis:\n",
    "\n",
    "- Mean and Median are both roughly 2 Bedrooms, so I will set the classifer at 2 and above."
   ]
  },
  {
   "cell_type": "code",
   "execution_count": 12,
   "metadata": {},
   "outputs": [
    {
     "data": {
      "text/plain": [
       "False    7121\n",
       "True     7067\n",
       "Name: bedrooms_2+, dtype: int64"
      ]
     },
     "execution_count": 12,
     "metadata": {},
     "output_type": "execute_result"
    }
   ],
   "source": [
    "df['bedrooms_2+'] = df['bedrooms'] >=2\n",
    "df['bedrooms_2+'].value_counts()"
   ]
  },
  {
   "cell_type": "markdown",
   "metadata": {},
   "source": [
    "### New Feature: Booking Rates\n",
    "- seeing the rumber of available days is good, but in some cases it may be more helpful to see this at a percentage."
   ]
  },
  {
   "cell_type": "code",
   "execution_count": 13,
   "metadata": {},
   "outputs": [],
   "source": [
    "#Changing availability to a percentage named availability rate.\n",
    "df['availability_30_rate'] = df['availability_30'].apply(lambda x: x/ 30)\n",
    "df['availability_90_rate'] = df['availability_90'].apply(lambda x: x/ 90)\n"
   ]
  },
  {
   "cell_type": "code",
   "execution_count": 14,
   "metadata": {},
   "outputs": [],
   "source": [
    "#Changing the availability rate to the percentage of the time period that the unit is booked.\n",
    "df['booked_rate_30'] = df['availability_30_rate'].apply(lambda x: 1 - x)\n",
    "df['booked_rate_90'] = df['availability_90_rate'].apply(lambda x: 1 - x)"
   ]
  },
  {
   "cell_type": "code",
   "execution_count": 15,
   "metadata": {},
   "outputs": [
    {
     "data": {
      "text/html": [
       "<div>\n",
       "<style scoped>\n",
       "    .dataframe tbody tr th:only-of-type {\n",
       "        vertical-align: middle;\n",
       "    }\n",
       "\n",
       "    .dataframe tbody tr th {\n",
       "        vertical-align: top;\n",
       "    }\n",
       "\n",
       "    .dataframe thead th {\n",
       "        text-align: right;\n",
       "    }\n",
       "</style>\n",
       "<table border=\"1\" class=\"dataframe\">\n",
       "  <thead>\n",
       "    <tr style=\"text-align: right;\">\n",
       "      <th></th>\n",
       "      <th>availability_30_rate</th>\n",
       "      <th>booked_rate_30</th>\n",
       "      <th>availability_90_rate</th>\n",
       "      <th>booked_rate_90</th>\n",
       "    </tr>\n",
       "  </thead>\n",
       "  <tbody>\n",
       "    <tr>\n",
       "      <th>0</th>\n",
       "      <td>0.000000</td>\n",
       "      <td>1.000000</td>\n",
       "      <td>0.066667</td>\n",
       "      <td>0.933333</td>\n",
       "    </tr>\n",
       "    <tr>\n",
       "      <th>1</th>\n",
       "      <td>0.666667</td>\n",
       "      <td>0.333333</td>\n",
       "      <td>0.600000</td>\n",
       "      <td>0.400000</td>\n",
       "    </tr>\n",
       "    <tr>\n",
       "      <th>2</th>\n",
       "      <td>0.000000</td>\n",
       "      <td>1.000000</td>\n",
       "      <td>0.000000</td>\n",
       "      <td>1.000000</td>\n",
       "    </tr>\n",
       "    <tr>\n",
       "      <th>3</th>\n",
       "      <td>0.533333</td>\n",
       "      <td>0.466667</td>\n",
       "      <td>0.488889</td>\n",
       "      <td>0.511111</td>\n",
       "    </tr>\n",
       "    <tr>\n",
       "      <th>4</th>\n",
       "      <td>0.200000</td>\n",
       "      <td>0.800000</td>\n",
       "      <td>0.466667</td>\n",
       "      <td>0.533333</td>\n",
       "    </tr>\n",
       "  </tbody>\n",
       "</table>\n",
       "</div>"
      ],
      "text/plain": [
       "   availability_30_rate  booked_rate_30  availability_90_rate  booked_rate_90\n",
       "0              0.000000        1.000000              0.066667        0.933333\n",
       "1              0.666667        0.333333              0.600000        0.400000\n",
       "2              0.000000        1.000000              0.000000        1.000000\n",
       "3              0.533333        0.466667              0.488889        0.511111\n",
       "4              0.200000        0.800000              0.466667        0.533333"
      ]
     },
     "execution_count": 15,
     "metadata": {},
     "output_type": "execute_result"
    }
   ],
   "source": [
    "avaibility = df[['availability_30_rate', 'booked_rate_30','availability_90_rate','booked_rate_90']]\n",
    "avaibility.head()"
   ]
  },
  {
   "cell_type": "markdown",
   "metadata": {},
   "source": [
    "### New Feature: Bookings Above Average\n",
    "- I have determined that price is not a great metric for measuring rentals because the prices are relative, and no two units are exactly the same.\n",
    "- However, the main thing that hosts want is to maximimze their bookings. So I want to capture and analyze how much availabilty they have so I that I have a metric to compare across the board."
   ]
  },
  {
   "cell_type": "code",
   "execution_count": 16,
   "metadata": {},
   "outputs": [
    {
     "data": {
      "text/plain": [
       "False    8670\n",
       "True     5518\n",
       "Name: bookings_above_avg, dtype: int64"
      ]
     },
     "execution_count": 16,
     "metadata": {},
     "output_type": "execute_result"
    }
   ],
   "source": [
    "df[\"bookings_above_avg\"] = df['booked_rate_90'] >= .512\n",
    "df['bookings_above_avg'].value_counts()"
   ]
  },
  {
   "cell_type": "markdown",
   "metadata": {},
   "source": [
    "#### New Feature: Host Respnse Rate 100\n",
    "- Feature that determines weather a host has a perfect response rate.\n",
    "- SuperHost status requires a minimum of %90 response rate.\n"
   ]
  },
  {
   "cell_type": "code",
   "execution_count": 17,
   "metadata": {},
   "outputs": [
    {
     "data": {
      "text/plain": [
       "True     9916\n",
       "False    4272\n",
       "Name: host_response_100, dtype: int64"
      ]
     },
     "execution_count": 17,
     "metadata": {},
     "output_type": "execute_result"
    }
   ],
   "source": [
    "#creating a classifier that captures whether a host has a perfect response rate or not.\n",
    "df['host_response_rate'] = df['host_response_rate'].str.replace('%', ' ')\n",
    "df['host_response_rate']  = df['host_response_rate'].astype('float')\n",
    "df['host_response_100'] = df['host_response_rate'] == 100.0\n",
    "df['host_response_100'].value_counts()"
   ]
  },
  {
   "cell_type": "markdown",
   "metadata": {},
   "source": [
    "### Fixing Host is Superhost & Instant Bookable\n",
    "- Features are currently strings instead of bools."
   ]
  },
  {
   "cell_type": "code",
   "execution_count": 18,
   "metadata": {},
   "outputs": [],
   "source": [
    "#setting up up a bool based on the old string data.\n",
    "df['superhost'] = df['host_is_superhost'] == 't'\n",
    "df['instant_bookable'] = df['instant_bookable'] == 't'"
   ]
  },
  {
   "cell_type": "code",
   "execution_count": 19,
   "metadata": {},
   "outputs": [
    {
     "data": {
      "text/plain": [
       "False    8782\n",
       "True     5406\n",
       "Name: superhost, dtype: int64"
      ]
     },
     "execution_count": 19,
     "metadata": {},
     "output_type": "execute_result"
    }
   ],
   "source": [
    "#making sure that I captured both the True and False classification.\n",
    "df['superhost'].value_counts()\n"
   ]
  },
  {
   "cell_type": "code",
   "execution_count": 20,
   "metadata": {},
   "outputs": [
    {
     "data": {
      "text/plain": [
       "False    7306\n",
       "True     6882\n",
       "Name: instant_bookable, dtype: int64"
      ]
     },
     "execution_count": 20,
     "metadata": {},
     "output_type": "execute_result"
    }
   ],
   "source": [
    "#making sure that I captured both the True and False Classifications.\n",
    "df['instant_bookable'].value_counts()"
   ]
  },
  {
   "cell_type": "markdown",
   "metadata": {},
   "source": [
    "#### Target Feature: Elite Units\n",
    "- This is my target feature. It classifies whether a unit is in our target 4.9 - 5.0 overall rating range or not.\n",
    "\n",
    "\n",
    "#### Dealing with Nulls"
   ]
  },
  {
   "cell_type": "code",
   "execution_count": 21,
   "metadata": {},
   "outputs": [
    {
     "data": {
      "text/plain": [
       "1665"
      ]
     },
     "execution_count": 21,
     "metadata": {},
     "output_type": "execute_result"
    }
   ],
   "source": [
    "#seeing how many records dont have a review score overall rating\n",
    "df['review_scores_rating'].isna().sum()"
   ]
  },
  {
   "cell_type": "markdown",
   "metadata": {},
   "source": [
    "There are 1655 Null records that need to be dealt with. If I drop them, I will lose 15% my data."
   ]
  },
  {
   "cell_type": "code",
   "execution_count": 22,
   "metadata": {},
   "outputs": [],
   "source": [
    "nulls = df[df['review_scores_rating'].isna()]"
   ]
  },
  {
   "cell_type": "code",
   "execution_count": 23,
   "metadata": {},
   "outputs": [
    {
     "data": {
      "text/plain": [
       "1665"
      ]
     },
     "execution_count": 23,
     "metadata": {},
     "output_type": "execute_result"
    }
   ],
   "source": [
    "len(nulls)"
   ]
  },
  {
   "cell_type": "code",
   "execution_count": 24,
   "metadata": {},
   "outputs": [
    {
     "data": {
      "text/html": [
       "<div>\n",
       "<style scoped>\n",
       "    .dataframe tbody tr th:only-of-type {\n",
       "        vertical-align: middle;\n",
       "    }\n",
       "\n",
       "    .dataframe tbody tr th {\n",
       "        vertical-align: top;\n",
       "    }\n",
       "\n",
       "    .dataframe thead th {\n",
       "        text-align: right;\n",
       "    }\n",
       "</style>\n",
       "<table border=\"1\" class=\"dataframe\">\n",
       "  <thead>\n",
       "    <tr style=\"text-align: right;\">\n",
       "      <th></th>\n",
       "      <th>price</th>\n",
       "      <th>review_scores_rating</th>\n",
       "      <th>review_scores_accuracy</th>\n",
       "      <th>review_scores_cleanliness</th>\n",
       "      <th>review_scores_checkin</th>\n",
       "      <th>review_scores_communication</th>\n",
       "      <th>review_scores_location</th>\n",
       "      <th>review_scores_value</th>\n",
       "      <th>accommodates</th>\n",
       "      <th>bedrooms</th>\n",
       "      <th>...</th>\n",
       "      <th>host_is_superhost</th>\n",
       "      <th>capacity_5+</th>\n",
       "      <th>bedrooms_2+</th>\n",
       "      <th>availability_30_rate</th>\n",
       "      <th>availability_90_rate</th>\n",
       "      <th>booked_rate_30</th>\n",
       "      <th>booked_rate_90</th>\n",
       "      <th>bookings_above_avg</th>\n",
       "      <th>host_response_100</th>\n",
       "      <th>superhost</th>\n",
       "    </tr>\n",
       "  </thead>\n",
       "  <tbody>\n",
       "    <tr>\n",
       "      <th>104</th>\n",
       "      <td>307.0</td>\n",
       "      <td>NaN</td>\n",
       "      <td>NaN</td>\n",
       "      <td>NaN</td>\n",
       "      <td>NaN</td>\n",
       "      <td>NaN</td>\n",
       "      <td>NaN</td>\n",
       "      <td>NaN</td>\n",
       "      <td>6</td>\n",
       "      <td>2.0</td>\n",
       "      <td>...</td>\n",
       "      <td>f</td>\n",
       "      <td>True</td>\n",
       "      <td>True</td>\n",
       "      <td>1.0</td>\n",
       "      <td>0.988889</td>\n",
       "      <td>0.0</td>\n",
       "      <td>0.011111</td>\n",
       "      <td>False</td>\n",
       "      <td>False</td>\n",
       "      <td>False</td>\n",
       "    </tr>\n",
       "    <tr>\n",
       "      <th>118</th>\n",
       "      <td>900.0</td>\n",
       "      <td>NaN</td>\n",
       "      <td>NaN</td>\n",
       "      <td>NaN</td>\n",
       "      <td>NaN</td>\n",
       "      <td>NaN</td>\n",
       "      <td>NaN</td>\n",
       "      <td>NaN</td>\n",
       "      <td>10</td>\n",
       "      <td>5.0</td>\n",
       "      <td>...</td>\n",
       "      <td>f</td>\n",
       "      <td>True</td>\n",
       "      <td>True</td>\n",
       "      <td>0.0</td>\n",
       "      <td>0.000000</td>\n",
       "      <td>1.0</td>\n",
       "      <td>1.000000</td>\n",
       "      <td>True</td>\n",
       "      <td>False</td>\n",
       "      <td>False</td>\n",
       "    </tr>\n",
       "    <tr>\n",
       "      <th>180</th>\n",
       "      <td>150.0</td>\n",
       "      <td>NaN</td>\n",
       "      <td>NaN</td>\n",
       "      <td>NaN</td>\n",
       "      <td>NaN</td>\n",
       "      <td>NaN</td>\n",
       "      <td>NaN</td>\n",
       "      <td>NaN</td>\n",
       "      <td>6</td>\n",
       "      <td>1.0</td>\n",
       "      <td>...</td>\n",
       "      <td>t</td>\n",
       "      <td>True</td>\n",
       "      <td>False</td>\n",
       "      <td>0.0</td>\n",
       "      <td>0.022222</td>\n",
       "      <td>1.0</td>\n",
       "      <td>0.977778</td>\n",
       "      <td>True</td>\n",
       "      <td>True</td>\n",
       "      <td>True</td>\n",
       "    </tr>\n",
       "    <tr>\n",
       "      <th>183</th>\n",
       "      <td>235.0</td>\n",
       "      <td>NaN</td>\n",
       "      <td>NaN</td>\n",
       "      <td>NaN</td>\n",
       "      <td>NaN</td>\n",
       "      <td>NaN</td>\n",
       "      <td>NaN</td>\n",
       "      <td>NaN</td>\n",
       "      <td>6</td>\n",
       "      <td>1.0</td>\n",
       "      <td>...</td>\n",
       "      <td>t</td>\n",
       "      <td>True</td>\n",
       "      <td>False</td>\n",
       "      <td>0.0</td>\n",
       "      <td>0.000000</td>\n",
       "      <td>1.0</td>\n",
       "      <td>1.000000</td>\n",
       "      <td>True</td>\n",
       "      <td>True</td>\n",
       "      <td>True</td>\n",
       "    </tr>\n",
       "    <tr>\n",
       "      <th>274</th>\n",
       "      <td>404.0</td>\n",
       "      <td>NaN</td>\n",
       "      <td>NaN</td>\n",
       "      <td>NaN</td>\n",
       "      <td>NaN</td>\n",
       "      <td>NaN</td>\n",
       "      <td>NaN</td>\n",
       "      <td>NaN</td>\n",
       "      <td>8</td>\n",
       "      <td>3.0</td>\n",
       "      <td>...</td>\n",
       "      <td>f</td>\n",
       "      <td>True</td>\n",
       "      <td>True</td>\n",
       "      <td>0.0</td>\n",
       "      <td>0.000000</td>\n",
       "      <td>1.0</td>\n",
       "      <td>1.000000</td>\n",
       "      <td>True</td>\n",
       "      <td>True</td>\n",
       "      <td>False</td>\n",
       "    </tr>\n",
       "  </tbody>\n",
       "</table>\n",
       "<p>5 rows × 32 columns</p>\n",
       "</div>"
      ],
      "text/plain": [
       "     price  review_scores_rating  review_scores_accuracy  \\\n",
       "104  307.0                   NaN                     NaN   \n",
       "118  900.0                   NaN                     NaN   \n",
       "180  150.0                   NaN                     NaN   \n",
       "183  235.0                   NaN                     NaN   \n",
       "274  404.0                   NaN                     NaN   \n",
       "\n",
       "     review_scores_cleanliness  review_scores_checkin  \\\n",
       "104                        NaN                    NaN   \n",
       "118                        NaN                    NaN   \n",
       "180                        NaN                    NaN   \n",
       "183                        NaN                    NaN   \n",
       "274                        NaN                    NaN   \n",
       "\n",
       "     review_scores_communication  review_scores_location  review_scores_value  \\\n",
       "104                          NaN                     NaN                  NaN   \n",
       "118                          NaN                     NaN                  NaN   \n",
       "180                          NaN                     NaN                  NaN   \n",
       "183                          NaN                     NaN                  NaN   \n",
       "274                          NaN                     NaN                  NaN   \n",
       "\n",
       "     accommodates  bedrooms  ...  host_is_superhost  capacity_5+ bedrooms_2+  \\\n",
       "104             6       2.0  ...                  f         True        True   \n",
       "118            10       5.0  ...                  f         True        True   \n",
       "180             6       1.0  ...                  t         True       False   \n",
       "183             6       1.0  ...                  t         True       False   \n",
       "274             8       3.0  ...                  f         True        True   \n",
       "\n",
       "    availability_30_rate availability_90_rate  booked_rate_30  booked_rate_90  \\\n",
       "104                  1.0             0.988889             0.0        0.011111   \n",
       "118                  0.0             0.000000             1.0        1.000000   \n",
       "180                  0.0             0.022222             1.0        0.977778   \n",
       "183                  0.0             0.000000             1.0        1.000000   \n",
       "274                  0.0             0.000000             1.0        1.000000   \n",
       "\n",
       "     bookings_above_avg  host_response_100  superhost  \n",
       "104               False              False      False  \n",
       "118                True              False      False  \n",
       "180                True               True       True  \n",
       "183                True               True       True  \n",
       "274                True               True      False  \n",
       "\n",
       "[5 rows x 32 columns]"
      ]
     },
     "execution_count": 24,
     "metadata": {},
     "output_type": "execute_result"
    }
   ],
   "source": [
    "nulls.head(5)"
   ]
  },
  {
   "cell_type": "code",
   "execution_count": 25,
   "metadata": {},
   "outputs": [],
   "source": [
    "df.dropna(subset=['review_scores_rating'], how='all', inplace = True)"
   ]
  },
  {
   "cell_type": "code",
   "execution_count": 26,
   "metadata": {},
   "outputs": [
    {
     "data": {
      "text/plain": [
       "12523"
      ]
     },
     "execution_count": 26,
     "metadata": {},
     "output_type": "execute_result"
    }
   ],
   "source": [
    "len(df)"
   ]
  },
  {
   "cell_type": "markdown",
   "metadata": {},
   "source": [
    "##### 12523 Records are left after dropping null values\n",
    "##### Creating Elite Unite Classifier\n",
    "- I have decided to classify \"5 star\" units s ones that have a 4.9 or higher oerall rating.\n",
    "- 4.9 is still an incredibly high score, and is obove thresholds for success (4.8 rating, etc), so it is well worth capturing units with a 4.9 rating as high performers as well"
   ]
  },
  {
   "cell_type": "code",
   "execution_count": 27,
   "metadata": {},
   "outputs": [
    {
     "data": {
      "text/plain": [
       "False    7385\n",
       "True     5138\n",
       "Name: elite, dtype: int64"
      ]
     },
     "execution_count": 27,
     "metadata": {},
     "output_type": "execute_result"
    }
   ],
   "source": [
    "#creating classifier and then checking to see how many units ae in each category.\n",
    "df['elite'] = df['review_scores_rating'] >=4.9\n",
    "df['elite'].value_counts()"
   ]
  },
  {
   "cell_type": "markdown",
   "metadata": {},
   "source": [
    "#### 41% of my dataset are Elite Units\n",
    "Out of 12523 Airbnb rental units, 41%(5138) are elite units, while 59(7385) are not"
   ]
  },
  {
   "cell_type": "markdown",
   "metadata": {},
   "source": [
    "### Room Type"
   ]
  },
  {
   "cell_type": "code",
   "execution_count": 28,
   "metadata": {},
   "outputs": [
    {
     "data": {
      "text/plain": [
       "True     10503\n",
       "False     2020\n",
       "Name: entire_home, dtype: int64"
      ]
     },
     "execution_count": 28,
     "metadata": {},
     "output_type": "execute_result"
    }
   ],
   "source": [
    "#creating a new feature which turn room type into a binary classifier.\n",
    "df['entire_home'] = df['room_type'] == 'Entire home/apt'\n",
    "df['entire_home'].value_counts()"
   ]
  },
  {
   "cell_type": "code",
   "execution_count": 29,
   "metadata": {},
   "outputs": [],
   "source": [
    "#dropping room_typesince I now classifier inits place\n",
    "df.drop(['room_type'], axis=1,inplace=True)"
   ]
  },
  {
   "cell_type": "markdown",
   "metadata": {},
   "source": [
    "### Host Response Time"
   ]
  },
  {
   "cell_type": "code",
   "execution_count": 30,
   "metadata": {},
   "outputs": [
    {
     "data": {
      "text/plain": [
       "within an hour        9676\n",
       "within a few hours    1237\n",
       "within a day           637\n",
       "a few days or more     149\n",
       "Name: host_response_time, dtype: int64"
      ]
     },
     "execution_count": 30,
     "metadata": {},
     "output_type": "execute_result"
    }
   ],
   "source": [
    "#checking to see how many records I have of each response speed.\n",
    "df['host_response_time'].value_counts()"
   ]
  },
  {
   "cell_type": "code",
   "execution_count": 31,
   "metadata": {},
   "outputs": [
    {
     "data": {
      "text/plain": [
       "True     9676\n",
       "False    2847\n",
       "Name: response_within_hour, dtype: int64"
      ]
     },
     "execution_count": 31,
     "metadata": {},
     "output_type": "execute_result"
    }
   ],
   "source": [
    "#The majority of responses were \"with an hour\".\n",
    "# I will change this into a binary classifier\n",
    "df['response_within_hour'] = df['host_response_time'] == 'within an hour'\n",
    "df['response_within_hour'].value_counts()"
   ]
  },
  {
   "cell_type": "code",
   "execution_count": 32,
   "metadata": {},
   "outputs": [],
   "source": [
    "df.drop(['host_response_time'], axis=1, inplace=True)"
   ]
  },
  {
   "cell_type": "markdown",
   "metadata": {},
   "source": [
    "#### Creating Review Metric Classifier Columns\n",
    "- These columns will capture the number of 5 star reviews left for each review metric.\n",
    "- Just like with my target classifier (5-Star), I am counting 4.9s in with the 5.0s.\n"
   ]
  },
  {
   "cell_type": "code",
   "execution_count": 33,
   "metadata": {},
   "outputs": [],
   "source": [
    "#Creating a classifier for each review metric with the same critieria as my target (4.9 - 5.0 Scores)\n",
    "\n",
    "df['accuracy_5'] = df['review_scores_accuracy'] >= 4.9\n",
    "df['cleanliness_5'] =  df['review_scores_cleanliness'] >= 4.9\n",
    "df['checkin_5'] = df['review_scores_checkin'] >= 4.9\n",
    "df['location_5'] = df['review_scores_location'] >=4.9\n",
    "df['value_5'] = df['review_scores_value'] >= 4.9\n",
    "df['communication_5'] = df['review_scores_communication'] >= 4.9\n"
   ]
  },
  {
   "cell_type": "code",
   "execution_count": 34,
   "metadata": {},
   "outputs": [
    {
     "name": "stdout",
     "output_type": "stream",
     "text": [
      "Number of Elite Accuracy Units: 6324\n",
      "Number of Elite Cleanliness Units: 5425\n",
      "Number of Elite Checkin Units: 8486\n",
      "Number of Elite Location Units: 7117\n",
      "Number of Elite Value Units: 3345\n",
      "Number of Elite Communication Units: 8058\n"
     ]
    }
   ],
   "source": [
    "#Printing a list with the number of units that are Elite in each category.\n",
    "print(\"Number of Elite Accuracy Units:\", len(df[df['accuracy_5']== True]))\n",
    "print(\"Number of Elite Cleanliness Units:\", len(df[df['cleanliness_5']== True]))\n",
    "print(\"Number of Elite Checkin Units:\", len(df[df['checkin_5']== True]))\n",
    "print(\"Number of Elite Location Units:\", len(df[df['location_5']== True]))\n",
    "print(\"Number of Elite Value Units:\", len(df[df['value_5']== True]))\n",
    "print(\"Number of Elite Communication Units:\", len(df[df['communication_5']== True]))"
   ]
  },
  {
   "cell_type": "markdown",
   "metadata": {},
   "source": [
    "There are significantly less units that have Elite Value. I am goin to do a value count of that classifier to take a closer look."
   ]
  },
  {
   "cell_type": "code",
   "execution_count": 35,
   "metadata": {},
   "outputs": [
    {
     "data": {
      "text/plain": [
       "False    9178\n",
       "True     3345\n",
       "Name: value_5, dtype: int64"
      ]
     },
     "execution_count": 35,
     "metadata": {},
     "output_type": "execute_result"
    }
   ],
   "source": [
    "df['value_5'].value_counts()"
   ]
  },
  {
   "cell_type": "markdown",
   "metadata": {},
   "source": [
    "### New Feature: Price Above Median"
   ]
  },
  {
   "cell_type": "code",
   "execution_count": 36,
   "metadata": {},
   "outputs": [
    {
     "data": {
      "text/plain": [
       "count     12523.000000\n",
       "mean        334.963347\n",
       "std        1192.884956\n",
       "min          10.000000\n",
       "25%         115.000000\n",
       "50%         181.000000\n",
       "75%         318.000000\n",
       "max      100000.000000\n",
       "Name: price, dtype: float64"
      ]
     },
     "execution_count": 36,
     "metadata": {},
     "output_type": "execute_result"
    }
   ],
   "source": [
    "#checking the mean, standard deviation, median and quatiles of price\n",
    "df['price'].describe()"
   ]
  },
  {
   "cell_type": "markdown",
   "metadata": {},
   "source": [
    "It is difficult to analyze price because it is relative. That said, I will create a classifier to determine whether a unit is above or belov the average(mean) price. (I rounded the mean of 279 to 280)"
   ]
  },
  {
   "cell_type": "code",
   "execution_count": 37,
   "metadata": {},
   "outputs": [],
   "source": [
    "df['price_280+'] =df['price'] >=280"
   ]
  },
  {
   "cell_type": "code",
   "execution_count": 38,
   "metadata": {},
   "outputs": [
    {
     "data": {
      "text/plain": [
       "False    8756\n",
       "True     3767\n",
       "Name: price_280+, dtype: int64"
      ]
     },
     "execution_count": 38,
     "metadata": {},
     "output_type": "execute_result"
    }
   ],
   "source": [
    "df['price_280+'].value_counts()"
   ]
  },
  {
   "cell_type": "markdown",
   "metadata": {},
   "source": [
    "### Creating Analysis_df"
   ]
  },
  {
   "cell_type": "code",
   "execution_count": 39,
   "metadata": {},
   "outputs": [],
   "source": [
    "#copying my dataframe as 'analysis_df' so I can easily pull back up my df with all classifiers in place.\n",
    "\n",
    "analysis_df = df.copy()"
   ]
  },
  {
   "cell_type": "markdown",
   "metadata": {},
   "source": [
    "## Preparing for Modeling"
   ]
  },
  {
   "cell_type": "code",
   "execution_count": 40,
   "metadata": {},
   "outputs": [
    {
     "name": "stdout",
     "output_type": "stream",
     "text": [
      "<class 'pandas.core.frame.DataFrame'>\n",
      "Int64Index: 12523 entries, 0 to 14187\n",
      "Data columns (total 40 columns):\n",
      " #   Column                          Non-Null Count  Dtype  \n",
      "---  ------                          --------------  -----  \n",
      " 0   price                           12523 non-null  float64\n",
      " 1   review_scores_rating            12523 non-null  float64\n",
      " 2   review_scores_accuracy          12502 non-null  float64\n",
      " 3   review_scores_cleanliness       12502 non-null  float64\n",
      " 4   review_scores_checkin           12500 non-null  float64\n",
      " 5   review_scores_communication     12502 non-null  float64\n",
      " 6   review_scores_location          12500 non-null  float64\n",
      " 7   review_scores_value             12500 non-null  float64\n",
      " 8   accommodates                    12523 non-null  int64  \n",
      " 9   bedrooms                        11366 non-null  float64\n",
      " 10  beds                            12392 non-null  float64\n",
      " 11  instant_bookable                12523 non-null  bool   \n",
      " 12  property_type                   12523 non-null  object \n",
      " 13  amenities                       12523 non-null  object \n",
      " 14  availability_365                12523 non-null  int64  \n",
      " 15  availability_30                 12523 non-null  int64  \n",
      " 16  availability_90                 12523 non-null  int64  \n",
      " 17  host_id                         12523 non-null  int64  \n",
      " 18  calculated_host_listings_count  12523 non-null  int64  \n",
      " 19  host_response_rate              11699 non-null  float64\n",
      " 20  host_is_superhost               12513 non-null  object \n",
      " 21  capacity_5+                     12523 non-null  bool   \n",
      " 22  bedrooms_2+                     12523 non-null  bool   \n",
      " 23  availability_30_rate            12523 non-null  float64\n",
      " 24  availability_90_rate            12523 non-null  float64\n",
      " 25  booked_rate_30                  12523 non-null  float64\n",
      " 26  booked_rate_90                  12523 non-null  float64\n",
      " 27  bookings_above_avg              12523 non-null  bool   \n",
      " 28  host_response_100               12523 non-null  bool   \n",
      " 29  superhost                       12523 non-null  bool   \n",
      " 30  elite                           12523 non-null  bool   \n",
      " 31  entire_home                     12523 non-null  bool   \n",
      " 32  response_within_hour            12523 non-null  bool   \n",
      " 33  accuracy_5                      12523 non-null  bool   \n",
      " 34  cleanliness_5                   12523 non-null  bool   \n",
      " 35  checkin_5                       12523 non-null  bool   \n",
      " 36  location_5                      12523 non-null  bool   \n",
      " 37  value_5                         12523 non-null  bool   \n",
      " 38  communication_5                 12523 non-null  bool   \n",
      " 39  price_280+                      12523 non-null  bool   \n",
      "dtypes: bool(16), float64(15), int64(6), object(3)\n",
      "memory usage: 2.6+ MB\n"
     ]
    }
   ],
   "source": [
    "#checking to see what my dataframe currently looks like\n",
    "\n",
    "analysis_df.info()"
   ]
  },
  {
   "cell_type": "markdown",
   "metadata": {},
   "source": [
    "## One Hot Encoding"
   ]
  },
  {
   "cell_type": "code",
   "execution_count": 41,
   "metadata": {},
   "outputs": [
    {
     "data": {
      "text/html": [
       "<div>\n",
       "<style scoped>\n",
       "    .dataframe tbody tr th:only-of-type {\n",
       "        vertical-align: middle;\n",
       "    }\n",
       "\n",
       "    .dataframe tbody tr th {\n",
       "        vertical-align: top;\n",
       "    }\n",
       "\n",
       "    .dataframe thead th {\n",
       "        text-align: right;\n",
       "    }\n",
       "</style>\n",
       "<table border=\"1\" class=\"dataframe\">\n",
       "  <thead>\n",
       "    <tr style=\"text-align: right;\">\n",
       "      <th></th>\n",
       "      <th>price_280+_False</th>\n",
       "      <th>price_280+_True</th>\n",
       "      <th>elite_False</th>\n",
       "      <th>elite_True</th>\n",
       "      <th>accuracy_5_False</th>\n",
       "      <th>accuracy_5_True</th>\n",
       "      <th>cleanliness_5_False</th>\n",
       "      <th>cleanliness_5_True</th>\n",
       "      <th>checkin_5_False</th>\n",
       "      <th>checkin_5_True</th>\n",
       "      <th>...</th>\n",
       "      <th>calculated_host_listings_count_97</th>\n",
       "      <th>calculated_host_listings_count_131</th>\n",
       "      <th>calculated_host_listings_count_146</th>\n",
       "      <th>calculated_host_listings_count_213</th>\n",
       "      <th>superhost_False</th>\n",
       "      <th>superhost_True</th>\n",
       "      <th>host_response_100_False</th>\n",
       "      <th>host_response_100_True</th>\n",
       "      <th>response_within_hour_False</th>\n",
       "      <th>response_within_hour_True</th>\n",
       "    </tr>\n",
       "  </thead>\n",
       "  <tbody>\n",
       "    <tr>\n",
       "      <th>0</th>\n",
       "      <td>1.0</td>\n",
       "      <td>0.0</td>\n",
       "      <td>1.0</td>\n",
       "      <td>0.0</td>\n",
       "      <td>1.0</td>\n",
       "      <td>0.0</td>\n",
       "      <td>1.0</td>\n",
       "      <td>0.0</td>\n",
       "      <td>0.0</td>\n",
       "      <td>1.0</td>\n",
       "      <td>...</td>\n",
       "      <td>0.0</td>\n",
       "      <td>0.0</td>\n",
       "      <td>0.0</td>\n",
       "      <td>0.0</td>\n",
       "      <td>1.0</td>\n",
       "      <td>0.0</td>\n",
       "      <td>0.0</td>\n",
       "      <td>1.0</td>\n",
       "      <td>0.0</td>\n",
       "      <td>1.0</td>\n",
       "    </tr>\n",
       "    <tr>\n",
       "      <th>1</th>\n",
       "      <td>1.0</td>\n",
       "      <td>0.0</td>\n",
       "      <td>1.0</td>\n",
       "      <td>0.0</td>\n",
       "      <td>1.0</td>\n",
       "      <td>0.0</td>\n",
       "      <td>1.0</td>\n",
       "      <td>0.0</td>\n",
       "      <td>1.0</td>\n",
       "      <td>0.0</td>\n",
       "      <td>...</td>\n",
       "      <td>0.0</td>\n",
       "      <td>0.0</td>\n",
       "      <td>0.0</td>\n",
       "      <td>0.0</td>\n",
       "      <td>1.0</td>\n",
       "      <td>0.0</td>\n",
       "      <td>0.0</td>\n",
       "      <td>1.0</td>\n",
       "      <td>0.0</td>\n",
       "      <td>1.0</td>\n",
       "    </tr>\n",
       "    <tr>\n",
       "      <th>2</th>\n",
       "      <td>1.0</td>\n",
       "      <td>0.0</td>\n",
       "      <td>1.0</td>\n",
       "      <td>0.0</td>\n",
       "      <td>1.0</td>\n",
       "      <td>0.0</td>\n",
       "      <td>1.0</td>\n",
       "      <td>0.0</td>\n",
       "      <td>1.0</td>\n",
       "      <td>0.0</td>\n",
       "      <td>...</td>\n",
       "      <td>0.0</td>\n",
       "      <td>0.0</td>\n",
       "      <td>0.0</td>\n",
       "      <td>0.0</td>\n",
       "      <td>0.0</td>\n",
       "      <td>1.0</td>\n",
       "      <td>0.0</td>\n",
       "      <td>1.0</td>\n",
       "      <td>0.0</td>\n",
       "      <td>1.0</td>\n",
       "    </tr>\n",
       "    <tr>\n",
       "      <th>3</th>\n",
       "      <td>0.0</td>\n",
       "      <td>1.0</td>\n",
       "      <td>1.0</td>\n",
       "      <td>0.0</td>\n",
       "      <td>1.0</td>\n",
       "      <td>0.0</td>\n",
       "      <td>1.0</td>\n",
       "      <td>0.0</td>\n",
       "      <td>1.0</td>\n",
       "      <td>0.0</td>\n",
       "      <td>...</td>\n",
       "      <td>0.0</td>\n",
       "      <td>0.0</td>\n",
       "      <td>0.0</td>\n",
       "      <td>0.0</td>\n",
       "      <td>0.0</td>\n",
       "      <td>1.0</td>\n",
       "      <td>0.0</td>\n",
       "      <td>1.0</td>\n",
       "      <td>0.0</td>\n",
       "      <td>1.0</td>\n",
       "    </tr>\n",
       "    <tr>\n",
       "      <th>4</th>\n",
       "      <td>0.0</td>\n",
       "      <td>1.0</td>\n",
       "      <td>0.0</td>\n",
       "      <td>1.0</td>\n",
       "      <td>0.0</td>\n",
       "      <td>1.0</td>\n",
       "      <td>0.0</td>\n",
       "      <td>1.0</td>\n",
       "      <td>0.0</td>\n",
       "      <td>1.0</td>\n",
       "      <td>...</td>\n",
       "      <td>0.0</td>\n",
       "      <td>0.0</td>\n",
       "      <td>0.0</td>\n",
       "      <td>0.0</td>\n",
       "      <td>0.0</td>\n",
       "      <td>1.0</td>\n",
       "      <td>0.0</td>\n",
       "      <td>1.0</td>\n",
       "      <td>0.0</td>\n",
       "      <td>1.0</td>\n",
       "    </tr>\n",
       "  </tbody>\n",
       "</table>\n",
       "<p>5 rows × 87 columns</p>\n",
       "</div>"
      ],
      "text/plain": [
       "   price_280+_False  price_280+_True  elite_False  elite_True  \\\n",
       "0               1.0              0.0          1.0         0.0   \n",
       "1               1.0              0.0          1.0         0.0   \n",
       "2               1.0              0.0          1.0         0.0   \n",
       "3               0.0              1.0          1.0         0.0   \n",
       "4               0.0              1.0          0.0         1.0   \n",
       "\n",
       "   accuracy_5_False  accuracy_5_True  cleanliness_5_False  cleanliness_5_True  \\\n",
       "0               1.0              0.0                  1.0                 0.0   \n",
       "1               1.0              0.0                  1.0                 0.0   \n",
       "2               1.0              0.0                  1.0                 0.0   \n",
       "3               1.0              0.0                  1.0                 0.0   \n",
       "4               0.0              1.0                  0.0                 1.0   \n",
       "\n",
       "   checkin_5_False  checkin_5_True  ...  calculated_host_listings_count_97  \\\n",
       "0              0.0             1.0  ...                                0.0   \n",
       "1              1.0             0.0  ...                                0.0   \n",
       "2              1.0             0.0  ...                                0.0   \n",
       "3              1.0             0.0  ...                                0.0   \n",
       "4              0.0             1.0  ...                                0.0   \n",
       "\n",
       "   calculated_host_listings_count_131  calculated_host_listings_count_146  \\\n",
       "0                                 0.0                                 0.0   \n",
       "1                                 0.0                                 0.0   \n",
       "2                                 0.0                                 0.0   \n",
       "3                                 0.0                                 0.0   \n",
       "4                                 0.0                                 0.0   \n",
       "\n",
       "   calculated_host_listings_count_213  superhost_False  superhost_True  \\\n",
       "0                                 0.0              1.0             0.0   \n",
       "1                                 0.0              1.0             0.0   \n",
       "2                                 0.0              0.0             1.0   \n",
       "3                                 0.0              0.0             1.0   \n",
       "4                                 0.0              0.0             1.0   \n",
       "\n",
       "   host_response_100_False  host_response_100_True  \\\n",
       "0                      0.0                     1.0   \n",
       "1                      0.0                     1.0   \n",
       "2                      0.0                     1.0   \n",
       "3                      0.0                     1.0   \n",
       "4                      0.0                     1.0   \n",
       "\n",
       "   response_within_hour_False  response_within_hour_True  \n",
       "0                         0.0                        1.0  \n",
       "1                         0.0                        1.0  \n",
       "2                         0.0                        1.0  \n",
       "3                         0.0                        1.0  \n",
       "4                         0.0                        1.0  \n",
       "\n",
       "[5 rows x 87 columns]"
      ]
     },
     "execution_count": 41,
     "metadata": {},
     "output_type": "execute_result"
    }
   ],
   "source": [
    "#Creating a variable which captures the features that need to be one hot encoded\n",
    "\n",
    "need_to_encode = df[['price_280+', 'elite', 'accuracy_5', 'cleanliness_5', 'checkin_5', 'location_5', 'value_5',\n",
    "                     'communication_5', 'entire_home', 'bedrooms_2+',\n",
    "                     'bookings_above_avg', 'instant_bookable', 'capacity_5+', 'calculated_host_listings_count', 'superhost', 'host_response_100', 'response_within_hour']]\n",
    "#calling encoder and fitting it to the features that need to be encoded.                    \n",
    "ohe = OneHotEncoder()\n",
    "ohe.fit(need_to_encode)\n",
    "\n",
    "#transforming the encoder output so that it can be modeled.\n",
    "ohe_1 = ohe.transform(need_to_encode).toarray()\n",
    "\n",
    "#adding labels\n",
    "ohe_df = pd.DataFrame(ohe_1, columns=ohe.get_feature_names(need_to_encode.columns))\n",
    "ohe_df.head(5)"
   ]
  },
  {
   "cell_type": "code",
   "execution_count": 42,
   "metadata": {},
   "outputs": [],
   "source": [
    "#creating 'cleaned_df'  as a copy of 'ohe_df' sothat I have a saved version of the df up to this point.\n",
    "cleaned_df = ohe_df.copy()\n"
   ]
  },
  {
   "cell_type": "markdown",
   "metadata": {},
   "source": [
    "### Dropping One Value for Categoricals"
   ]
  },
  {
   "cell_type": "code",
   "execution_count": 43,
   "metadata": {},
   "outputs": [],
   "source": [
    "#dropping one value from all categorical values to prevent redundancy.\n",
    "cleaned_df.drop(['elite_False', 'accuracy_5_False', 'cleanliness_5_False', 'checkin_5_False', 'location_5_False',\n",
    "                 'value_5_False', 'communication_5_False', 'bedrooms_2+_False',\n",
    "                 'bookings_above_avg_False', 'instant_bookable_False', 'capacity_5+_False', \n",
    "                 'calculated_host_listings_count_97', 'entire_home_False', 'price_280+_False',\n",
    "                 'superhost_False', 'host_response_100_False', 'response_within_hour_False',\n",
    "                ], axis=1, inplace=True)\n"
   ]
  },
  {
   "cell_type": "markdown",
   "metadata": {},
   "source": [
    "### Dealing With Class imbalance\n",
    "- Solution\n",
    "  - Always use class weight parameter in Decision TreeClassifier\n",
    "  - Always stratify Train Test Split\n",
    "  - Add SMOTE to Training Sets."
   ]
  },
  {
   "cell_type": "code",
   "execution_count": 44,
   "metadata": {},
   "outputs": [
    {
     "data": {
      "text/plain": [
       "0.0    7385\n",
       "1.0    5138\n",
       "Name: elite_True, dtype: int64"
      ]
     },
     "execution_count": 44,
     "metadata": {},
     "output_type": "execute_result"
    }
   ],
   "source": [
    "#Checking to make sure that my target was properly encoded.\n",
    "cleaned_df['elite_True'].value_counts()"
   ]
  },
  {
   "cell_type": "markdown",
   "metadata": {},
   "source": [
    "### Train Test Split\n",
    " - Creating seperate Traning and Test Groups for modeling."
   ]
  },
  {
   "cell_type": "code",
   "execution_count": 47,
   "metadata": {},
   "outputs": [],
   "source": [
    "#creating 'balanced_df', which will end up being my df with balanced data\n",
    "balanced_df = cleaned_df.copy()\n",
    "\n",
    "#islolating my target(y), and all other data(X)\n",
    "X = balanced_df.drop(['elite_True'], axis=1)\n",
    "y = balanced_df['elite_True']\n",
    "\n",
    "#Splitting X and y into training and test sets, with 25% of the data in the test set.\n",
    "#Stratifying the split to minimize class imbalance.\n",
    "X_train, X_test, y_train, y_test = train_test_split(X, y, test_size=.25, stratify=y, random_state=23)\n",
    "\n",
    "#Using SMOTE to further minimize any class imbalance.\n",
    "smote = SMOTE(random_state=23)\n",
    "X_train_resampled, y_train_resampled = smote.fit_resample(X_train, y_train) \n"
   ]
  },
  {
   "cell_type": "markdown",
   "metadata": {},
   "source": [
    "### Choosing Evaluation Metrics\n",
    "- My goal is to predict wheather a person will get a 4.9-5.0 Airbnb Overall rating.\n",
    "- Which is worse?\n",
    "   - Model predicts that a unit is an Elie Unit, but they actually are not ?(more false negative)\n",
    "\n",
    "### Decision\n",
    "- I want to false Positive to be as low as possible \n",
    "- if my model says that a property is an Elite Unit, I want it to be true.\n",
    "- if it misses some of the Elite units in the process, that is fine.\n",
    "- Therefore, Iam most concerned with Precision, balanced out by F1 score.\n",
    "### Metrics Function\n"
   ]
  },
  {
   "cell_type": "code",
   "execution_count": 48,
   "metadata": {},
   "outputs": [],
   "source": [
    "#creating 'get_metrics' function\n",
    "def get_metrics(clf, y_pred):\n",
    "    \"\"\" Function that calculates the key metrics that I want to analyze for my models. It also leaves out unnecceray evaluation metrics that I don`t need to see.\"\"\"\n",
    "    \n",
    "    clf_prec = precision_score(y_test, y_pred) * 100\n",
    "    print('Precision is :{0}' .format(clf_prec))\n",
    "    \n",
    "    clf_f1 = f1_score(y_test,y_pred) * 100\n",
    "    print('F1 Score is :{0}' .format(clf_f1))\n",
    "    \n",
    "    false_positive_rate, true_positive_rate, thresholds = roc_curve(y_test,y_pred)\n",
    "    \n",
    "    clf_roc_auc = auc(false_positive_rate, true_positive_rate)\n",
    "    print('ROC AUC is :{0}'.format(round(clf_roc_auc,2)))\n",
    "    \n",
    "    clf_cv_score = np.mean(cross_val_score(clf, X_train_resampled, y_train_resampled, cv=10))\n",
    "    print('Cross Validation Score is :{0}' .format(round(clf_cv_score, 3)))"
   ]
  },
  {
   "cell_type": "markdown",
   "metadata": {},
   "source": [
    "## Modeling\n",
    "### Baseline Decision Tree"
   ]
  },
  {
   "cell_type": "code",
   "execution_count": 49,
   "metadata": {},
   "outputs": [
    {
     "name": "stdout",
     "output_type": "stream",
     "text": [
      "Precision is :77.18068535825545\n",
      "F1 Score is :77.15064227325807\n",
      "ROC AUC is :0.81\n",
      "Cross Validation Score is :0.849\n"
     ]
    }
   ],
   "source": [
    "#Starting with a basic decision tree. Making sure that class weights are balanced.\n",
    "\n",
    "dt1 = DecisionTreeClassifier(random_state=23, class_weight='balanced')\n",
    "dt1.fit(X_train_resampled, y_train_resampled)\n",
    "dt1_y_pred = dt1.predict(X_test)\n",
    "get_metrics(dt1,dt1_y_pred)"
   ]
  },
  {
   "cell_type": "markdown",
   "metadata": {},
   "source": [
    "#### Baseline Model Analysis:\n",
    "- A simple decision tree gives me a good starting point.\n",
    "- The precision is above 77%, which is acceptable , as is the F1 score.\n",
    "- The AUC Score is already at 81%, which is great for baseline!\n",
    "- Likewise, the Cross Validation score is alrady looking good as it is nearly %84\n",
    "\n",
    "### Decision Tree 2\n",
    "##### Refining Decision Tree Through GridSearchCV\n"
   ]
  },
  {
   "cell_type": "code",
   "execution_count": 56,
   "metadata": {},
   "outputs": [],
   "source": [
    "#Creating Grid Search to optimize Random Forest Parameters for Precision.\n",
    "rf_param_grid = {\n",
    "    'n_estimators': [10, 30, 100],\n",
    "    'criterion': ['gini', 'entropy'],\n",
    "    'max_depth': [None, 2, 6, 10],\n",
    "    'min_samples_split': [5, 10],\n",
    "    'min_samples_leaf': [3, 6]\n",
    "}"
   ]
  },
  {
   "cell_type": "code",
   "execution_count": 63,
   "metadata": {},
   "outputs": [
    {
     "data": {
      "text/plain": [
       "{'criterion': 'entropy',\n",
       " 'max_depth': 4,\n",
       " 'min_samples_leaf': 1,\n",
       " 'min_samples_split': 2}"
      ]
     },
     "execution_count": 63,
     "metadata": {},
     "output_type": "execute_result"
    }
   ],
   "source": [
    "# Instantiate GridSearchCV\n",
    "dt2 = DecisionTreeClassifier(random_state=23)\n",
    "\n",
    "#Running Gridsearch on my data. Making sure that it is optimizing Precision as that is my key metric.\n",
    "dt_grid_search = GridSearchCV(dt2, dt_param_grid, cv=3, scoring = 'precision')\n",
    "\n",
    "# Fit to the data\n",
    "dt_grid_search.fit(X_train_resampled, y_train_resampled)\n",
    "dt_grid_search.best_params_"
   ]
  },
  {
   "cell_type": "code",
   "execution_count": 64,
   "metadata": {},
   "outputs": [
    {
     "name": "stdout",
     "output_type": "stream",
     "text": [
      "Precision is :82.92682926829268\n",
      "F1 Score is :81.11332007952285\n",
      "ROC AUC is :0.84\n",
      "Cross Validation Score is :0.863\n"
     ]
    }
   ],
   "source": [
    "#Running the decision tree again. This time using the parameters as determined from the gried search.\n",
    "dt2 = DecisionTreeClassifier(criterion='entropy', max_depth=4, min_samples_split=2, min_samples_leaf=1,class_weight='balanced',random_state=23)\n",
    "dt2.fit(X_train_resampled,y_train_resampled)\n",
    "dt2_y_pred = dt2.predict(X_test)\n",
    "get_metrics(dt2,dt2_y_pred)"
   ]
  },
  {
   "cell_type": "markdown",
   "metadata": {},
   "source": [
    "### Analysis:\n",
    "\n",
    "- All scores are improved!\n",
    "- Everything is in the 80s which is excellent!\n",
    "- I would be happy with this as a final model, but want to see if I can further improve my results with ensemble methods or gradient boosting.\n",
    "\n",
    "### Random Forests"
   ]
  },
  {
   "cell_type": "code",
   "execution_count": 62,
   "metadata": {},
   "outputs": [
    {
     "name": "stdout",
     "output_type": "stream",
     "text": [
      "Precision is :80.72196620583718\n",
      "F1 Score is :81.25241592578276\n",
      "ROC AUC is :0.84\n",
      "Cross Validation Score is :0.875\n"
     ]
    }
   ],
   "source": [
    "#Creating a Random Forests Classifier.\n",
    "rf1_clf = RandomForestClassifier(random_state=23, class_weight='balanced')\n",
    "rf1_clf.fit(X_train_resampled, y_train_resampled)\n",
    "rf1_t_pred = rf1_clf.predict(X_test)\n",
    "get_metrics(rf1_clf, rf1_t_pred)"
   ]
  },
  {
   "cell_type": "markdown",
   "metadata": {},
   "source": [
    "### Analysis:\n",
    "\n",
    "- This is an improvement over my baseline model. But it still isn't as good as my Optimized Decision Tree.\n",
    "### Random Forests 2\n",
    "### GridSearch CV"
   ]
  },
  {
   "cell_type": "code",
   "execution_count": 65,
   "metadata": {},
   "outputs": [],
   "source": [
    "#Creating Grid Search to optimize Random Forest Parameters for Precision.\n",
    "rf_param_grid = {\n",
    "    'n_estimators': [10, 30, 100],\n",
    "    'criterion': ['gini', 'entropy'],\n",
    "    'max_depth': [None, 2, 6, 10],\n",
    "    'min_samples_split': [5, 10],\n",
    "    'min_samples_leaf': [3, 6]\n",
    "}"
   ]
  },
  {
   "cell_type": "code",
   "execution_count": null,
   "metadata": {},
   "outputs": [],
   "source": []
  },
  {
   "cell_type": "code",
   "execution_count": null,
   "metadata": {},
   "outputs": [],
   "source": []
  },
  {
   "cell_type": "code",
   "execution_count": null,
   "metadata": {},
   "outputs": [],
   "source": []
  },
  {
   "cell_type": "code",
   "execution_count": null,
   "metadata": {},
   "outputs": [],
   "source": [
    "\n"
   ]
  },
  {
   "cell_type": "code",
   "execution_count": null,
   "metadata": {},
   "outputs": [],
   "source": []
  },
  {
   "cell_type": "code",
   "execution_count": null,
   "metadata": {},
   "outputs": [],
   "source": []
  },
  {
   "cell_type": "code",
   "execution_count": null,
   "metadata": {},
   "outputs": [],
   "source": []
  },
  {
   "cell_type": "code",
   "execution_count": null,
   "metadata": {},
   "outputs": [],
   "source": []
  },
  {
   "cell_type": "code",
   "execution_count": null,
   "metadata": {},
   "outputs": [],
   "source": [
    "\n"
   ]
  },
  {
   "cell_type": "code",
   "execution_count": null,
   "metadata": {},
   "outputs": [],
   "source": []
  },
  {
   "cell_type": "code",
   "execution_count": null,
   "metadata": {},
   "outputs": [],
   "source": []
  }
 ],
 "metadata": {
  "kernelspec": {
   "display_name": "Python 3",
   "language": "python",
   "name": "python3"
  },
  "language_info": {
   "codemirror_mode": {
    "name": "ipython",
    "version": 3
   },
   "file_extension": ".py",
   "mimetype": "text/x-python",
   "name": "python",
   "nbconvert_exporter": "python",
   "pygments_lexer": "ipython3",
   "version": "3.8.5"
  }
 },
 "nbformat": 4,
 "nbformat_minor": 4
}
